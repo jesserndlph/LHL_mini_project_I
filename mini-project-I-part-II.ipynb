{
 "cells": [
  {
   "cell_type": "markdown",
   "metadata": {},
   "source": [
    "## Movies\n",
    "In this part of mini-project, we need to have our API-KEY ready because this API won't work without it.\n",
    "\n",
    "We encourage you to look for correct endpoints in [the documentation](https://developers.themoviedb.org/3/account). We can also play around with requests there before copying them to Python."
   ]
  },
  {
   "cell_type": "code",
   "execution_count": 1,
   "metadata": {},
   "outputs": [],
   "source": [
    "import os\n",
    "import requests as re\n",
    "import json\n",
    "import pandas as pd"
   ]
  },
  {
   "cell_type": "markdown",
   "metadata": {},
   "source": [
    "## Demo"
   ]
  },
  {
   "cell_type": "code",
   "execution_count": 5,
   "metadata": {},
   "outputs": [
    {
     "ename": "KeyError",
     "evalue": "'e39174eaa0a361edc6beb5b2f1871007'",
     "output_type": "error",
     "traceback": [
      "\u001b[1;31m---------------------------------------------------------------------------\u001b[0m",
      "\u001b[1;31mKeyError\u001b[0m                                  Traceback (most recent call last)",
      "\u001b[1;32mC:\\Users\\JESSER~1\\AppData\\Local\\Temp/ipykernel_7640/2909878168.py\u001b[0m in \u001b[0;36m<module>\u001b[1;34m\u001b[0m\n\u001b[0;32m      3\u001b[0m \u001b[1;33m\u001b[0m\u001b[0m\n\u001b[0;32m      4\u001b[0m \u001b[0mquery\u001b[0m \u001b[1;33m=\u001b[0m \u001b[1;34m'titanic'\u001b[0m\u001b[1;33m\u001b[0m\u001b[1;33m\u001b[0m\u001b[0m\n\u001b[1;32m----> 5\u001b[1;33m \u001b[0mapi_key\u001b[0m \u001b[1;33m=\u001b[0m \u001b[0mos\u001b[0m\u001b[1;33m.\u001b[0m\u001b[0menviron\u001b[0m\u001b[1;33m[\u001b[0m\u001b[1;34m\"e39174eaa0a361edc6beb5b2f1871007\"\u001b[0m\u001b[1;33m]\u001b[0m\u001b[1;33m\u001b[0m\u001b[1;33m\u001b[0m\u001b[0m\n\u001b[0m\u001b[0;32m      6\u001b[0m \u001b[0mparams\u001b[0m \u001b[1;33m=\u001b[0m \u001b[1;34mf'?query={query}&api_key={api_key}'\u001b[0m\u001b[1;33m\u001b[0m\u001b[1;33m\u001b[0m\u001b[0m\n",
      "\u001b[1;32m~\\anaconda3\\lib\\os.py\u001b[0m in \u001b[0;36m__getitem__\u001b[1;34m(self, key)\u001b[0m\n\u001b[0;32m    673\u001b[0m         \u001b[1;32mexcept\u001b[0m \u001b[0mKeyError\u001b[0m\u001b[1;33m:\u001b[0m\u001b[1;33m\u001b[0m\u001b[1;33m\u001b[0m\u001b[0m\n\u001b[0;32m    674\u001b[0m             \u001b[1;31m# raise KeyError with the original key value\u001b[0m\u001b[1;33m\u001b[0m\u001b[1;33m\u001b[0m\u001b[1;33m\u001b[0m\u001b[0m\n\u001b[1;32m--> 675\u001b[1;33m             \u001b[1;32mraise\u001b[0m \u001b[0mKeyError\u001b[0m\u001b[1;33m(\u001b[0m\u001b[0mkey\u001b[0m\u001b[1;33m)\u001b[0m \u001b[1;32mfrom\u001b[0m \u001b[1;32mNone\u001b[0m\u001b[1;33m\u001b[0m\u001b[1;33m\u001b[0m\u001b[0m\n\u001b[0m\u001b[0;32m    676\u001b[0m         \u001b[1;32mreturn\u001b[0m \u001b[0mself\u001b[0m\u001b[1;33m.\u001b[0m\u001b[0mdecodevalue\u001b[0m\u001b[1;33m(\u001b[0m\u001b[0mvalue\u001b[0m\u001b[1;33m)\u001b[0m\u001b[1;33m\u001b[0m\u001b[1;33m\u001b[0m\u001b[0m\n\u001b[0;32m    677\u001b[0m \u001b[1;33m\u001b[0m\u001b[0m\n",
      "\u001b[1;31mKeyError\u001b[0m: 'e39174eaa0a361edc6beb5b2f1871007'"
     ]
    }
   ],
   "source": [
    "base = \"https://api.themoviedb.org/3\"\n",
    "url = \"/search/movie\"\n",
    "\n",
    "query = 'titanic'\n",
    "api_key = os.environ[\"Your Key\"]\n",
    "params = f'?query={query}&api_key={api_key}' "
   ]
  },
  {
   "cell_type": "code",
   "execution_count": null,
   "metadata": {},
   "outputs": [],
   "source": [
    "res = requests.get(base+url+params)"
   ]
  },
  {
   "cell_type": "code",
   "execution_count": null,
   "metadata": {},
   "outputs": [],
   "source": [
    "res.status_code"
   ]
  },
  {
   "cell_type": "code",
   "execution_count": null,
   "metadata": {},
   "outputs": [],
   "source": [
    "res.json()"
   ]
  },
  {
   "cell_type": "code",
   "execution_count": null,
   "metadata": {},
   "outputs": [],
   "source": []
  },
  {
   "cell_type": "code",
   "execution_count": null,
   "metadata": {},
   "outputs": [],
   "source": []
  },
  {
   "cell_type": "markdown",
   "metadata": {},
   "source": [
    "## Task\n",
    "Search for you favorite movie and return the information about the movie:\n",
    "- name\n",
    "- release date\n",
    "- runtime\n",
    "- revenue\n",
    "- length of the overview\n",
    "- number of votes\n",
    "- voting average"
   ]
  },
  {
   "cell_type": "code",
   "execution_count": 6,
   "metadata": {},
   "outputs": [
    {
     "data": {
      "text/plain": [
       "{'page': 1,\n",
       " 'results': [{'adult': False,\n",
       "   'backdrop_path': None,\n",
       "   'genre_ids': [16, 99],\n",
       "   'id': 698296,\n",
       "   'original_language': 'en',\n",
       "   'original_title': \"The Art of 'Spirited Away'\",\n",
       "   'overview': 'The people that brought the film Sen to Chihiro no kamikakushi (2001) (a.k.a. \"Spirited Away\") to the US explain how it was converted into English, with some minor confusion between languages, and how well it did in both Japan and America.',\n",
       "   'popularity': 1.797,\n",
       "   'poster_path': '/x1iaVnI4mTaETwAKTLyIAKFwQSJ.jpg',\n",
       "   'release_date': '2003-04-15',\n",
       "   'title': \"The Art of 'Spirited Away'\",\n",
       "   'video': False,\n",
       "   'vote_average': 8,\n",
       "   'vote_count': 2},\n",
       "  {'adult': False,\n",
       "   'backdrop_path': '/bf9shWfUKyEB5oB7awJeKIoCehl.jpg',\n",
       "   'genre_ids': [16, 10751, 14],\n",
       "   'id': 129,\n",
       "   'original_language': 'ja',\n",
       "   'original_title': '千と千尋の神隠し',\n",
       "   'overview': 'A young girl, Chihiro, becomes trapped in a strange new world of spirits. When her parents undergo a mysterious transformation, she must call upon the courage she never knew she had to free her family.',\n",
       "   'popularity': 73.836,\n",
       "   'poster_path': '/39wmItIWsg5sZMyRUHLkWBcuVCM.jpg',\n",
       "   'release_date': '2001-07-20',\n",
       "   'title': 'Spirited Away',\n",
       "   'video': False,\n",
       "   'vote_average': 8.5,\n",
       "   'vote_count': 11951}],\n",
       " 'total_pages': 1,\n",
       " 'total_results': 2}"
      ]
     },
     "execution_count": 6,
     "metadata": {},
     "output_type": "execute_result"
    }
   ],
   "source": [
    "base = \"https://api.themoviedb.org/3\"\n",
    "url = \"/search/movie\"\n",
    "\n",
    "\n",
    "query_spirited_away = 'spirited-away'\n",
    "api_key = '<Your Key>'\n",
    "params = f'?query={query_spirited_away}&api_key={api_key}'\n",
    "res_SA = re.get(base+url+params)\n",
    "spirited_away = res_SA.json()\n",
    "spirited_away"
   ]
  },
  {
   "cell_type": "code",
   "execution_count": 7,
   "metadata": {},
   "outputs": [
    {
     "name": "stdout",
     "output_type": "stream",
     "text": [
      "The Art of 'Spirited Away'\n",
      "千と千尋の神隠し\n",
      "2003-04-15 is the release date\n",
      "201 is length of the overview\n",
      "11951 vote count\n",
      "8.5 voting rank!\n"
     ]
    }
   ],
   "source": [
    "# name\n",
    "print(spirited_away[\"results\"][0][\"original_title\"])\n",
    "print(spirited_away[\"results\"][1][\"original_title\"])\n",
    "# release date\n",
    "print(spirited_away[\"results\"][0][\"release_date\"], \"is the release date\")\n",
    "# runtime\n",
    "    # no runtime\n",
    "# revenue\n",
    "\n",
    "# length of the overview\n",
    "print(len(spirited_away[\"results\"][1][\"overview\"]), \"is length of the overview\")\n",
    "# number of votes\n",
    "print(spirited_away[\"results\"][1][\"vote_count\"], \"vote count\")\n",
    "# voting average\n",
    "print(spirited_away[\"results\"][1][\"vote_average\"], \"voting rank!\")"
   ]
  },
  {
   "cell_type": "code",
   "execution_count": null,
   "metadata": {},
   "outputs": [],
   "source": []
  },
  {
   "cell_type": "code",
   "execution_count": null,
   "metadata": {},
   "outputs": [],
   "source": []
  },
  {
   "cell_type": "markdown",
   "metadata": {},
   "source": [
    "## Task\n",
    "Search for you favorite actor/actress and return the information about him/her:\n",
    "- name\n",
    "- date of birth\n",
    "- place of birth\n",
    "- length of the biography"
   ]
  },
  {
   "cell_type": "code",
   "execution_count": 13,
   "metadata": {},
   "outputs": [
    {
     "data": {
      "text/plain": [
       "{'page': 1, 'results': [], 'total_pages': 0, 'total_results': 0}"
      ]
     },
     "execution_count": 13,
     "metadata": {},
     "output_type": "execute_result"
    }
   ],
   "source": [
    "base = \"https://api.themoviedb.org/3\"\n",
    "url = \"/search/person\"\n",
    "query_actor = 'ryan_gosling'\n",
    "api_key = '<Your Key>'\n",
    "params = f'?query={query_actor}&api_key={api_key}&birthday' \n",
    "res_actor = re.get(base+url+params)\n",
    "i = res_actor.json()\n",
    "i\n"
   ]
  },
  {
   "cell_type": "code",
   "execution_count": null,
   "metadata": {},
   "outputs": [],
   "source": []
  },
  {
   "cell_type": "code",
   "execution_count": null,
   "metadata": {},
   "outputs": [],
   "source": []
  },
  {
   "cell_type": "markdown",
   "metadata": {},
   "source": [
    "## Task\n",
    "Search for you favorite tv-show and return the information about it:\n",
    "- name\n",
    "- first air date\n",
    "- number of seasons\n",
    "- number of episodes\n",
    "- genres"
   ]
  },
  {
   "cell_type": "code",
   "execution_count": null,
   "metadata": {},
   "outputs": [],
   "source": []
  },
  {
   "cell_type": "code",
   "execution_count": null,
   "metadata": {},
   "outputs": [],
   "source": []
  },
  {
   "cell_type": "code",
   "execution_count": null,
   "metadata": {},
   "outputs": [],
   "source": []
  },
  {
   "cell_type": "markdown",
   "metadata": {},
   "source": [
    "## Task \n",
    "Find top 5 trending:\n",
    "- movies\n",
    "- tv-shows\n",
    "- people"
   ]
  },
  {
   "cell_type": "code",
   "execution_count": null,
   "metadata": {},
   "outputs": [],
   "source": []
  },
  {
   "cell_type": "code",
   "execution_count": null,
   "metadata": {},
   "outputs": [],
   "source": []
  }
 ],
 "metadata": {
  "kernelspec": {
   "display_name": "Python 3 (ipykernel)",
   "language": "python",
   "name": "python3"
  },
  "language_info": {
   "codemirror_mode": {
    "name": "ipython",
    "version": 3
   },
   "file_extension": ".py",
   "mimetype": "text/x-python",
   "name": "python",
   "nbconvert_exporter": "python",
   "pygments_lexer": "ipython3",
   "version": "3.8.11"
  }
 },
 "nbformat": 4,
 "nbformat_minor": 4
}
